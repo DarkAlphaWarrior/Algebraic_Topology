{
  "nbformat": 4,
  "nbformat_minor": 0,
  "metadata": {
    "colab": {
      "name": "MusicFeatures.ipynb",
      "provenance": []
    },
    "kernelspec": {
      "name": "python3",
      "display_name": "Python 3"
    },
    "accelerator": "TPU"
  },
  "cells": [
    {
      "cell_type": "code",
      "metadata": {
        "id": "4iTGR9dBErZl",
        "colab_type": "code",
        "colab": {}
      },
      "source": [
        "import numpy as np\n",
        "import numpy.linalg as linalg\n",
        "import scipy as scipy\n",
        "from scipy.io import wavfile\n",
        "from scipy.io import savemat\n",
        "from scipy.fftpack import dct\n",
        "import matplotlib.pyplot as plt"
      ],
      "execution_count": 0,
      "outputs": []
    },
    {
      "cell_type": "code",
      "metadata": {
        "id": "4Fal1_uREy_q",
        "colab_type": "code",
        "colab": {}
      },
      "source": [
        "\n",
        "def Specgram(X, W, H):\n",
        "    \"\"\"A function to compute the spectrogram of a signal\n",
        "    :parm X: N x 1 Audio Signal\n",
        "    :param W: Window Size\n",
        "    :param H HopSize\n",
        "    :returns: S, an N x NBins spectrogram array\n",
        "    \"\"\"\n",
        "    Q = W/H\n",
        "    if Q - np.floor(Q) > 0:\n",
        "        print('Warning: Window size is not integer multiple of hop size\\n')\n",
        "    win = np.hamming(W)\n",
        "    NWin = int(np.floor((len(X) - W)/float(H)) + 1)\n",
        "    S = np.zeros((NWin, W))\n",
        "    for i in range(NWin):\n",
        "        x = X[i*H:i*H+W]\n",
        "        S[i, :] = np.abs(np.fft.fft(win*x))\n",
        "    #Second half of the spectrum is redundant for real signals\n",
        "    if W % 2 == 0:\n",
        "        #Even Case\n",
        "        S = S[:, 0:int(W/2)]\n",
        "    else:\n",
        "        #Odd Case\n",
        "        S = S[:, 0:int((W-1)/2)+1]\n",
        "    return S"
      ],
      "execution_count": 0,
      "outputs": []
    },
    {
      "cell_type": "code",
      "metadata": {
        "id": "b4jnCO9FE4PH",
        "colab_type": "code",
        "colab": {}
      },
      "source": [
        "\n",
        "def getMelFilterbank( Fs, winSize, nbands, minfreq, maxfreq ):\n",
        "    #Purpose: Return a mel-spaced triangle filterbank\n",
        "    #Step 1: Warp to the mel-frequency scale\n",
        "    melbounds = np.array([minfreq, maxfreq])\n",
        "    melbounds = 1125*np.log(1 + melbounds/700.0)\n",
        "    mel = np.linspace(melbounds[0], melbounds[1], nbands)\n",
        "    binfreqs = 700*(np.exp(mel/1125.0) - 1)\n",
        "    binbins = np.ceil(((winSize-1)/float(Fs))*binfreqs) #Ceil to the nearest bin\n",
        "    binbins = np.array(binbins, dtype = np.int64)\n",
        "\n",
        "    #Step 2: Create mel triangular filterbank\n",
        "    melfbank = np.zeros((nbands, winSize))\n",
        "    for i in range(nbands):\n",
        "       thisbin = binbins[i]\n",
        "       lbin = thisbin\n",
        "       if i > 0:\n",
        "           lbin = binbins[i-1]\n",
        "       rbin = thisbin + (thisbin - lbin)\n",
        "       if i < nbands-1:\n",
        "           rbin = binbins[i+1]\n",
        "       melfbank[i, lbin:thisbin+1] = np.linspace(0, 1, 1 + (thisbin - lbin))\n",
        "       melfbank[i, thisbin:rbin+1] = np.linspace(1, 0, 1 + (rbin - thisbin))\n",
        "    return melfbank\n"
      ],
      "execution_count": 0,
      "outputs": []
    },
    {
      "cell_type": "code",
      "metadata": {
        "id": "POuZezqzE8Bv",
        "colab_type": "code",
        "colab": {
          "base_uri": "https://localhost:8080/",
          "height": 350
        },
        "outputId": "07ab2c5a-5997-49c4-8f96-f025f68b0251"
      },
      "source": [
        "def getAudioNoveltyFn(x, Fs, winSize, hopSize):\n",
        "    \"\"\"\n",
        "    Using techniques from\n",
        "    Ellis, Daniel PW. \"Beat tracking by dynamic programming.\" \n",
        "    Journal of New Music Research 36.1 (2007): 51-60.\n",
        "    \"\"\"\n",
        "    \n",
        "    #First compute mel-spaced STFT\n",
        "    S = Specgram(x, winSize, hopSize)\n",
        "    S = np.abs(S)\n",
        "    M = getMelFilterbank(Fs, winSize, 40, 30, 8000)\n",
        "    M = M[:, 0:S.shape[1]]\n",
        "    X = M.dot(S.T)\n",
        "    \n",
        "    novFn = X[:, 1::] - X[:, 0:-1]\n",
        "    novFn[novFn < 0] = 0\n",
        "    novFn = np.sum(novFn, 0)\n",
        "    return (S, novFn)\n",
        "\n",
        "\n",
        "if __name__ == '__main__':\n",
        "    Fs, X = scipy.io.wavfile.read(\"journey.wav\")\n",
        "    X = X/(2.0**15) #Audio is loaded in as 16 bit shorts.  Convert to float\n",
        "    winSize = 512\n",
        "    hopSize = 256\n",
        "    (S, novFn) = getAudioNoveltyFn(X, Fs, winSize, hopSize)\n",
        "    \n",
        "    nsamples = 500\n",
        "    novFn = novFn[0:nsamples]\n",
        "    t = np.arange(nsamples)*hopSize/float(Fs)\n",
        "    \n",
        "    plt.subplot(211)\n",
        "    plt.imshow(np.log(S.T), cmap = 'afmhot', aspect = 'auto')\n",
        "    plt.title(\"Spectrogram\")\n",
        "    plt.axis('off')\n",
        "    plt.subplot(212)\n",
        "    plt.plot(t, novFn)\n",
        "    plt.title(\"Audio Novelty Function\")\n",
        "    plt.xlabel(\"Time (Sec)\")\n",
        "    plt.xlim([0, np.max(t)])\n",
        "    plt.show()"
      ],
      "execution_count": 10,
      "outputs": [
        {
          "output_type": "error",
          "ename": "FileNotFoundError",
          "evalue": "ignored",
          "traceback": [
            "\u001b[0;31m---------------------------------------------------------------------------\u001b[0m",
            "\u001b[0;31mFileNotFoundError\u001b[0m                         Traceback (most recent call last)",
            "\u001b[0;32m<ipython-input-10-f29286e64d38>\u001b[0m in \u001b[0;36m<module>\u001b[0;34m()\u001b[0m\n\u001b[1;32m     20\u001b[0m \u001b[0;34m\u001b[0m\u001b[0m\n\u001b[1;32m     21\u001b[0m \u001b[0;32mif\u001b[0m \u001b[0m__name__\u001b[0m \u001b[0;34m==\u001b[0m \u001b[0;34m'__main__'\u001b[0m\u001b[0;34m:\u001b[0m\u001b[0;34m\u001b[0m\u001b[0;34m\u001b[0m\u001b[0m\n\u001b[0;32m---> 22\u001b[0;31m     \u001b[0mFs\u001b[0m\u001b[0;34m,\u001b[0m \u001b[0mX\u001b[0m \u001b[0;34m=\u001b[0m \u001b[0mscipy\u001b[0m\u001b[0;34m.\u001b[0m\u001b[0mio\u001b[0m\u001b[0;34m.\u001b[0m\u001b[0mwavfile\u001b[0m\u001b[0;34m.\u001b[0m\u001b[0mread\u001b[0m\u001b[0;34m(\u001b[0m\u001b[0;34m\"journey.wav\"\u001b[0m\u001b[0;34m)\u001b[0m\u001b[0;34m\u001b[0m\u001b[0;34m\u001b[0m\u001b[0m\n\u001b[0m\u001b[1;32m     23\u001b[0m     \u001b[0mX\u001b[0m \u001b[0;34m=\u001b[0m \u001b[0mX\u001b[0m\u001b[0;34m/\u001b[0m\u001b[0;34m(\u001b[0m\u001b[0;36m2.0\u001b[0m\u001b[0;34m**\u001b[0m\u001b[0;36m15\u001b[0m\u001b[0;34m)\u001b[0m \u001b[0;31m#Audio is loaded in as 16 bit shorts.  Convert to float\u001b[0m\u001b[0;34m\u001b[0m\u001b[0;34m\u001b[0m\u001b[0m\n\u001b[1;32m     24\u001b[0m     \u001b[0mwinSize\u001b[0m \u001b[0;34m=\u001b[0m \u001b[0;36m512\u001b[0m\u001b[0;34m\u001b[0m\u001b[0;34m\u001b[0m\u001b[0m\n",
            "\u001b[0;32m/usr/local/lib/python3.6/dist-packages/scipy/io/wavfile.py\u001b[0m in \u001b[0;36mread\u001b[0;34m(filename, mmap)\u001b[0m\n\u001b[1;32m    262\u001b[0m         \u001b[0mmmap\u001b[0m \u001b[0;34m=\u001b[0m \u001b[0;32mFalse\u001b[0m\u001b[0;34m\u001b[0m\u001b[0;34m\u001b[0m\u001b[0m\n\u001b[1;32m    263\u001b[0m     \u001b[0;32melse\u001b[0m\u001b[0;34m:\u001b[0m\u001b[0;34m\u001b[0m\u001b[0;34m\u001b[0m\u001b[0m\n\u001b[0;32m--> 264\u001b[0;31m         \u001b[0mfid\u001b[0m \u001b[0;34m=\u001b[0m \u001b[0mopen\u001b[0m\u001b[0;34m(\u001b[0m\u001b[0mfilename\u001b[0m\u001b[0;34m,\u001b[0m \u001b[0;34m'rb'\u001b[0m\u001b[0;34m)\u001b[0m\u001b[0;34m\u001b[0m\u001b[0;34m\u001b[0m\u001b[0m\n\u001b[0m\u001b[1;32m    265\u001b[0m \u001b[0;34m\u001b[0m\u001b[0m\n\u001b[1;32m    266\u001b[0m     \u001b[0;32mtry\u001b[0m\u001b[0;34m:\u001b[0m\u001b[0;34m\u001b[0m\u001b[0;34m\u001b[0m\u001b[0m\n",
            "\u001b[0;31mFileNotFoundError\u001b[0m: [Errno 2] No such file or directory: 'journey.wav'"
          ]
        }
      ]
    },
    {
      "cell_type": "code",
      "metadata": {
        "id": "zUNJHwd9FBUI",
        "colab_type": "code",
        "colab": {}
      },
      "source": [
        ""
      ],
      "execution_count": 0,
      "outputs": []
    },
    {
      "cell_type": "code",
      "metadata": {
        "id": "-OeZx_AUFXdA",
        "colab_type": "code",
        "colab": {}
      },
      "source": [
        ""
      ],
      "execution_count": 0,
      "outputs": []
    }
  ]
}